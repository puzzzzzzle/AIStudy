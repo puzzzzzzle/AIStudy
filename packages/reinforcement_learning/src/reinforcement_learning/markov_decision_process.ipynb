{
 "cells": [
  {
   "metadata": {},
   "cell_type": "markdown",
   "source": "## Markov Decision Process",
   "id": "202c89e7d1f1f85f"
  },
  {
   "metadata": {},
   "cell_type": "markdown",
   "source": "- 给定一个马尔可夫过程, 可以从某个状态出发, 根据它的状态转移矩阵生成一个状态序列(episode), 这个步骤也被叫做采样(sampling)",
   "id": "f4d6303889cad884"
  },
  {
   "metadata": {},
   "cell_type": "markdown",
   "source": [
    "### 马尔可夫奖励过程\n",
    "马尔可夫奖励过程（Markov Reward Process, MRP）由元组 $\\langle S, P, R, \\gamma \\rangle$ 组成：\n",
    "- $S$ 是有限状态集\n",
    "- $P$ 是状态转移概率矩阵，$P(s'|s) = \\mathbb{P}[S_{t+1}=s'|S_t=s]$\n",
    "- $R$ 是奖励函数，$R(s) = \\mathbb{E}[R_{t+1}|S_t=s]$\n",
    "- $\\gamma$ 是折扣因子，$\\gamma \\in [0,1]$\n",
    "\n",
    "**回报（Return）**定义：\n",
    "$$ G_t = R_{t+1} + \\gamma R_{t+2} + \\gamma^2 R_{t+3} + \\cdots = \\sum_{k=0}^\\infty \\gamma^k R_{t+k+1} $$\n",
    "\n",
    "**状态价值函数（State Value Function）**：\n",
    "$$ V(s) = \\mathbb{E}[G_t|S_t=s] $$\n",
    "\n",
    "**贝尔曼方程**：\n",
    "$$ V(s) = R(s) + \\gamma \\sum_{s' \\in S} P(s'|s)V(s') $$"
   ],
   "id": "102df5ba8fad66be"
  },
  {
   "metadata": {
    "ExecuteTime": {
     "end_time": "2025-04-07T11:48:11.297596Z",
     "start_time": "2025-04-07T11:48:10.904149Z"
    }
   },
   "cell_type": "code",
   "source": [
    "import numpy as np\n",
    "np.random.seed(0)\n",
    "# 定义状态转移概率矩阵P\n",
    "P = [\n",
    "    [0.9, 0.1, 0.0, 0.0, 0.0, 0.0],\n",
    "    [0.5, 0.0, 0.5, 0.0, 0.0, 0.0],\n",
    "    [0.0, 0.0, 0.0, 0.6, 0.0, 0.4],\n",
    "    [0.0, 0.0, 0.0, 0.0, 0.3, 0.7],\n",
    "    [0.0, 0.2, 0.3, 0.5, 0.0, 0.0],\n",
    "    [0.0, 0.0, 0.0, 0.0, 0.0, 1.0],\n",
    "]\n",
    "P = np.array(P)\n",
    "\n",
    "rewards = [-1, -2, -2, 10, 1, 0]  # 定义奖励函数\n",
    "gamma = 0.5  # 定义折扣因子\n",
    "\n",
    "\n",
    "# 给定一条序列,计算从某个索引（起始状态）开始到序列最后（终止状态）得到的回报\n",
    "def compute_return(start_index, chain, gamma):\n",
    "    G = 0\n",
    "    for i in reversed(range(start_index, len(chain))):\n",
    "        G = gamma * G + rewards[chain[i] - 1]\n",
    "    return G\n",
    "\n",
    "\n",
    "# 一个状态序列,s1-s2-s3-s6\n",
    "chain = [1, 2, 3, 6]\n",
    "start_index = 0\n",
    "G = compute_return(start_index, chain, gamma)\n",
    "print(\"根据本序列计算得到回报为：%s。\" % G)"
   ],
   "id": "767a44329030b01c",
   "outputs": [
    {
     "name": "stdout",
     "output_type": "stream",
     "text": [
      "根据本序列计算得到回报为：-2.5。\n"
     ]
    }
   ],
   "execution_count": 1
  }
 ],
 "metadata": {
  "kernelspec": {
   "display_name": "Python 3",
   "language": "python",
   "name": "python3"
  },
  "language_info": {
   "codemirror_mode": {
    "name": "ipython",
    "version": 2
   },
   "file_extension": ".py",
   "mimetype": "text/x-python",
   "name": "python",
   "nbconvert_exporter": "python",
   "pygments_lexer": "ipython2",
   "version": "2.7.6"
  }
 },
 "nbformat": 4,
 "nbformat_minor": 5
}
