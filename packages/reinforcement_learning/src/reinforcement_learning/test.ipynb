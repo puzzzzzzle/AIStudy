{
 "cells": [
  {
   "metadata": {},
   "cell_type": "markdown",
   "source": "## tqdm",
   "id": "fcaac03ed0ca9ce9"
  },
  {
   "metadata": {
    "ExecuteTime": {
     "end_time": "2025-04-10T01:59:54.778708Z",
     "start_time": "2025-04-10T01:59:44.581390Z"
    }
   },
   "cell_type": "code",
   "source": [
    "from tqdm import tqdm\n",
    "from time import sleep\n",
    "\n",
    "with tqdm(total=100, desc='Iteration') as pbar:\n",
    "    for i in range(100):\n",
    "        pbar.update(1)\n",
    "        pbar.set_postfix({\n",
    "            'iteration': i,\n",
    "        })\n",
    "        sleep(0.1)"
   ],
   "id": "193975ffd828cbd2",
   "outputs": [
    {
     "name": "stderr",
     "output_type": "stream",
     "text": [
      "Iteration: 100%|██████████| 100/100 [00:10<00:00,  9.81it/s, iteration=99]\n"
     ]
    }
   ],
   "execution_count": 3
  },
  {
   "metadata": {},
   "cell_type": "markdown",
   "source": "## gym",
   "id": "f2632687f14d6491"
  },
  {
   "metadata": {
    "ExecuteTime": {
     "end_time": "2025-04-10T02:00:49.068901Z",
     "start_time": "2025-04-10T02:00:49.064636Z"
    }
   },
   "cell_type": "code",
   "source": [
    "import gymnasium as gym\n",
    "gym.pprint_registry()"
   ],
   "id": "a1abb0bd11d43c59",
   "outputs": [
    {
     "name": "stdout",
     "output_type": "stream",
     "text": [
      "===== classic_control =====\n",
      "Acrobot-v1             CartPole-v0            CartPole-v1\n",
      "MountainCar-v0         MountainCarContinuous-v0 Pendulum-v1\n",
      "===== phys2d =====\n",
      "phys2d/CartPole-v0     phys2d/CartPole-v1     phys2d/Pendulum-v0\n",
      "===== box2d =====\n",
      "BipedalWalker-v3       BipedalWalkerHardcore-v3 CarRacing-v3\n",
      "LunarLander-v3         LunarLanderContinuous-v3\n",
      "===== toy_text =====\n",
      "Blackjack-v1           CliffWalking-v0        FrozenLake-v1\n",
      "FrozenLake8x8-v1       Taxi-v3\n",
      "===== tabular =====\n",
      "tabular/Blackjack-v0   tabular/CliffWalking-v0\n",
      "===== mujoco =====\n",
      "Ant-v2                 Ant-v3                 Ant-v4\n",
      "Ant-v5                 HalfCheetah-v2         HalfCheetah-v3\n",
      "HalfCheetah-v4         HalfCheetah-v5         Hopper-v2\n",
      "Hopper-v3              Hopper-v4              Hopper-v5\n",
      "Humanoid-v2            Humanoid-v3            Humanoid-v4\n",
      "Humanoid-v5            HumanoidStandup-v2     HumanoidStandup-v4\n",
      "HumanoidStandup-v5     InvertedDoublePendulum-v2 InvertedDoublePendulum-v4\n",
      "InvertedDoublePendulum-v5 InvertedPendulum-v2    InvertedPendulum-v4\n",
      "InvertedPendulum-v5    Pusher-v2              Pusher-v4\n",
      "Pusher-v5              Reacher-v2             Reacher-v4\n",
      "Reacher-v5             Swimmer-v2             Swimmer-v3\n",
      "Swimmer-v4             Swimmer-v5             Walker2d-v2\n",
      "Walker2d-v3            Walker2d-v4            Walker2d-v5\n",
      "===== None =====\n",
      "GymV21Environment-v0   GymV26Environment-v0\n"
     ]
    }
   ],
   "execution_count": 6
  },
  {
   "metadata": {
    "ExecuteTime": {
     "end_time": "2025-04-10T02:07:07.669383Z",
     "start_time": "2025-04-10T02:07:07.340367Z"
    }
   },
   "cell_type": "code",
   "source": [
    "\n",
    "env = gym.make(\"LunarLander-v3\", render_mode=\"human\")\n",
    "observation, info = env.reset()\n",
    "\n",
    "episode_over = False\n",
    "while not episode_over:\n",
    "    action = env.action_space.sample()  # agent policy that uses the observation and info\n",
    "    observation, reward, terminated, truncated, info = env.step(action)\n",
    "\n",
    "    episode_over = terminated or truncated\n",
    "\n",
    "env.close()"
   ],
   "id": "ae4e5386ee7e2abd",
   "outputs": [
    {
     "ename": "DependencyNotInstalled",
     "evalue": "Box2D is not installed, you can install it by run `pip install swig` followed by `pip install \"gymnasium[box2d]\"`",
     "output_type": "error",
     "traceback": [
      "\u001B[31m---------------------------------------------------------------------------\u001B[39m",
      "\u001B[31mModuleNotFoundError\u001B[39m                       Traceback (most recent call last)",
      "\u001B[36mFile \u001B[39m\u001B[32mF:\\projects\\Study\\study_reps\\AIStudy\\.venv\\Lib\\site-packages\\gymnasium\\envs\\box2d\\bipedal_walker.py:15\u001B[39m\n\u001B[32m     14\u001B[39m \u001B[38;5;28;01mtry\u001B[39;00m:\n\u001B[32m---> \u001B[39m\u001B[32m15\u001B[39m     \u001B[38;5;28;01mimport\u001B[39;00m\u001B[38;5;250m \u001B[39m\u001B[34;01mBox2D\u001B[39;00m\n\u001B[32m     16\u001B[39m     \u001B[38;5;28;01mfrom\u001B[39;00m\u001B[38;5;250m \u001B[39m\u001B[34;01mBox2D\u001B[39;00m\u001B[34;01m.\u001B[39;00m\u001B[34;01mb2\u001B[39;00m\u001B[38;5;250m \u001B[39m\u001B[38;5;28;01mimport\u001B[39;00m (\n\u001B[32m     17\u001B[39m         circleShape,\n\u001B[32m     18\u001B[39m         contactListener,\n\u001B[32m   (...)\u001B[39m\u001B[32m     22\u001B[39m         revoluteJointDef,\n\u001B[32m     23\u001B[39m     )\n",
      "\u001B[31mModuleNotFoundError\u001B[39m: No module named 'Box2D'",
      "\nThe above exception was the direct cause of the following exception:\n",
      "\u001B[31mDependencyNotInstalled\u001B[39m                    Traceback (most recent call last)",
      "\u001B[36mCell\u001B[39m\u001B[36m \u001B[39m\u001B[32mIn[8]\u001B[39m\u001B[32m, line 1\u001B[39m\n\u001B[32m----> \u001B[39m\u001B[32m1\u001B[39m env = \u001B[43mgym\u001B[49m\u001B[43m.\u001B[49m\u001B[43mmake\u001B[49m\u001B[43m(\u001B[49m\u001B[33;43m\"\u001B[39;49m\u001B[33;43mLunarLander-v3\u001B[39;49m\u001B[33;43m\"\u001B[39;49m\u001B[43m,\u001B[49m\u001B[43m \u001B[49m\u001B[43mrender_mode\u001B[49m\u001B[43m=\u001B[49m\u001B[33;43m\"\u001B[39;49m\u001B[33;43mhuman\u001B[39;49m\u001B[33;43m\"\u001B[39;49m\u001B[43m)\u001B[49m\n\u001B[32m      2\u001B[39m observation, info = env.reset()\n\u001B[32m      4\u001B[39m episode_over = \u001B[38;5;28;01mFalse\u001B[39;00m\n",
      "\u001B[36mFile \u001B[39m\u001B[32mF:\\projects\\Study\\study_reps\\AIStudy\\.venv\\Lib\\site-packages\\gymnasium\\envs\\registration.py:704\u001B[39m, in \u001B[36mmake\u001B[39m\u001B[34m(id, max_episode_steps, disable_env_checker, **kwargs)\u001B[39m\n\u001B[32m    701\u001B[39m     env_creator = env_spec.entry_point\n\u001B[32m    702\u001B[39m \u001B[38;5;28;01melse\u001B[39;00m:\n\u001B[32m    703\u001B[39m     \u001B[38;5;66;03m# Assume it's a string\u001B[39;00m\n\u001B[32m--> \u001B[39m\u001B[32m704\u001B[39m     env_creator = \u001B[43mload_env_creator\u001B[49m\u001B[43m(\u001B[49m\u001B[43menv_spec\u001B[49m\u001B[43m.\u001B[49m\u001B[43mentry_point\u001B[49m\u001B[43m)\u001B[49m\n\u001B[32m    706\u001B[39m \u001B[38;5;66;03m# Determine if to use the rendering\u001B[39;00m\n\u001B[32m    707\u001B[39m render_modes: \u001B[38;5;28mlist\u001B[39m[\u001B[38;5;28mstr\u001B[39m] | \u001B[38;5;28;01mNone\u001B[39;00m = \u001B[38;5;28;01mNone\u001B[39;00m\n",
      "\u001B[36mFile \u001B[39m\u001B[32mF:\\projects\\Study\\study_reps\\AIStudy\\.venv\\Lib\\site-packages\\gymnasium\\envs\\registration.py:551\u001B[39m, in \u001B[36mload_env_creator\u001B[39m\u001B[34m(name)\u001B[39m\n\u001B[32m    542\u001B[39m \u001B[38;5;250m\u001B[39m\u001B[33;03m\"\"\"Loads an environment with name of style ``\"(import path):(environment name)\"`` and returns the environment creation function, normally the environment class type.\u001B[39;00m\n\u001B[32m    543\u001B[39m \n\u001B[32m    544\u001B[39m \u001B[33;03mArgs:\u001B[39;00m\n\u001B[32m   (...)\u001B[39m\u001B[32m    548\u001B[39m \u001B[33;03m    The environment constructor for the given environment name.\u001B[39;00m\n\u001B[32m    549\u001B[39m \u001B[33;03m\"\"\"\u001B[39;00m\n\u001B[32m    550\u001B[39m mod_name, attr_name = name.split(\u001B[33m\"\u001B[39m\u001B[33m:\u001B[39m\u001B[33m\"\u001B[39m)\n\u001B[32m--> \u001B[39m\u001B[32m551\u001B[39m mod = \u001B[43mimportlib\u001B[49m\u001B[43m.\u001B[49m\u001B[43mimport_module\u001B[49m\u001B[43m(\u001B[49m\u001B[43mmod_name\u001B[49m\u001B[43m)\u001B[49m\n\u001B[32m    552\u001B[39m fn = \u001B[38;5;28mgetattr\u001B[39m(mod, attr_name)\n\u001B[32m    553\u001B[39m \u001B[38;5;28;01mreturn\u001B[39;00m fn\n",
      "\u001B[36mFile \u001B[39m\u001B[32mC:\\Program Files\\Python313\\Lib\\importlib\\__init__.py:88\u001B[39m, in \u001B[36mimport_module\u001B[39m\u001B[34m(name, package)\u001B[39m\n\u001B[32m     86\u001B[39m             \u001B[38;5;28;01mbreak\u001B[39;00m\n\u001B[32m     87\u001B[39m         level += \u001B[32m1\u001B[39m\n\u001B[32m---> \u001B[39m\u001B[32m88\u001B[39m \u001B[38;5;28;01mreturn\u001B[39;00m \u001B[43m_bootstrap\u001B[49m\u001B[43m.\u001B[49m\u001B[43m_gcd_import\u001B[49m\u001B[43m(\u001B[49m\u001B[43mname\u001B[49m\u001B[43m[\u001B[49m\u001B[43mlevel\u001B[49m\u001B[43m:\u001B[49m\u001B[43m]\u001B[49m\u001B[43m,\u001B[49m\u001B[43m \u001B[49m\u001B[43mpackage\u001B[49m\u001B[43m,\u001B[49m\u001B[43m \u001B[49m\u001B[43mlevel\u001B[49m\u001B[43m)\u001B[49m\n",
      "\u001B[36mFile \u001B[39m\u001B[32m<frozen importlib._bootstrap>:1387\u001B[39m, in \u001B[36m_gcd_import\u001B[39m\u001B[34m(name, package, level)\u001B[39m\n",
      "\u001B[36mFile \u001B[39m\u001B[32m<frozen importlib._bootstrap>:1360\u001B[39m, in \u001B[36m_find_and_load\u001B[39m\u001B[34m(name, import_)\u001B[39m\n",
      "\u001B[36mFile \u001B[39m\u001B[32m<frozen importlib._bootstrap>:1310\u001B[39m, in \u001B[36m_find_and_load_unlocked\u001B[39m\u001B[34m(name, import_)\u001B[39m\n",
      "\u001B[36mFile \u001B[39m\u001B[32m<frozen importlib._bootstrap>:488\u001B[39m, in \u001B[36m_call_with_frames_removed\u001B[39m\u001B[34m(f, *args, **kwds)\u001B[39m\n",
      "\u001B[36mFile \u001B[39m\u001B[32m<frozen importlib._bootstrap>:1387\u001B[39m, in \u001B[36m_gcd_import\u001B[39m\u001B[34m(name, package, level)\u001B[39m\n",
      "\u001B[36mFile \u001B[39m\u001B[32m<frozen importlib._bootstrap>:1360\u001B[39m, in \u001B[36m_find_and_load\u001B[39m\u001B[34m(name, import_)\u001B[39m\n",
      "\u001B[36mFile \u001B[39m\u001B[32m<frozen importlib._bootstrap>:1331\u001B[39m, in \u001B[36m_find_and_load_unlocked\u001B[39m\u001B[34m(name, import_)\u001B[39m\n",
      "\u001B[36mFile \u001B[39m\u001B[32m<frozen importlib._bootstrap>:935\u001B[39m, in \u001B[36m_load_unlocked\u001B[39m\u001B[34m(spec)\u001B[39m\n",
      "\u001B[36mFile \u001B[39m\u001B[32m<frozen importlib._bootstrap_external>:1026\u001B[39m, in \u001B[36mexec_module\u001B[39m\u001B[34m(self, module)\u001B[39m\n",
      "\u001B[36mFile \u001B[39m\u001B[32m<frozen importlib._bootstrap>:488\u001B[39m, in \u001B[36m_call_with_frames_removed\u001B[39m\u001B[34m(f, *args, **kwds)\u001B[39m\n",
      "\u001B[36mFile \u001B[39m\u001B[32mF:\\projects\\Study\\study_reps\\AIStudy\\.venv\\Lib\\site-packages\\gymnasium\\envs\\box2d\\__init__.py:1\u001B[39m\n\u001B[32m----> \u001B[39m\u001B[32m1\u001B[39m \u001B[38;5;28;01mfrom\u001B[39;00m\u001B[38;5;250m \u001B[39m\u001B[34;01mgymnasium\u001B[39;00m\u001B[34;01m.\u001B[39;00m\u001B[34;01menvs\u001B[39;00m\u001B[34;01m.\u001B[39;00m\u001B[34;01mbox2d\u001B[39;00m\u001B[34;01m.\u001B[39;00m\u001B[34;01mbipedal_walker\u001B[39;00m\u001B[38;5;250m \u001B[39m\u001B[38;5;28;01mimport\u001B[39;00m BipedalWalker, BipedalWalkerHardcore\n\u001B[32m      2\u001B[39m \u001B[38;5;28;01mfrom\u001B[39;00m\u001B[38;5;250m \u001B[39m\u001B[34;01mgymnasium\u001B[39;00m\u001B[34;01m.\u001B[39;00m\u001B[34;01menvs\u001B[39;00m\u001B[34;01m.\u001B[39;00m\u001B[34;01mbox2d\u001B[39;00m\u001B[34;01m.\u001B[39;00m\u001B[34;01mcar_racing\u001B[39;00m\u001B[38;5;250m \u001B[39m\u001B[38;5;28;01mimport\u001B[39;00m CarRacing\n\u001B[32m      3\u001B[39m \u001B[38;5;28;01mfrom\u001B[39;00m\u001B[38;5;250m \u001B[39m\u001B[34;01mgymnasium\u001B[39;00m\u001B[34;01m.\u001B[39;00m\u001B[34;01menvs\u001B[39;00m\u001B[34;01m.\u001B[39;00m\u001B[34;01mbox2d\u001B[39;00m\u001B[34;01m.\u001B[39;00m\u001B[34;01mlunar_lander\u001B[39;00m\u001B[38;5;250m \u001B[39m\u001B[38;5;28;01mimport\u001B[39;00m LunarLander, LunarLanderContinuous\n",
      "\u001B[36mFile \u001B[39m\u001B[32mF:\\projects\\Study\\study_reps\\AIStudy\\.venv\\Lib\\site-packages\\gymnasium\\envs\\box2d\\bipedal_walker.py:25\u001B[39m\n\u001B[32m     16\u001B[39m     \u001B[38;5;28;01mfrom\u001B[39;00m\u001B[38;5;250m \u001B[39m\u001B[34;01mBox2D\u001B[39;00m\u001B[34;01m.\u001B[39;00m\u001B[34;01mb2\u001B[39;00m\u001B[38;5;250m \u001B[39m\u001B[38;5;28;01mimport\u001B[39;00m (\n\u001B[32m     17\u001B[39m         circleShape,\n\u001B[32m     18\u001B[39m         contactListener,\n\u001B[32m   (...)\u001B[39m\u001B[32m     22\u001B[39m         revoluteJointDef,\n\u001B[32m     23\u001B[39m     )\n\u001B[32m     24\u001B[39m \u001B[38;5;28;01mexcept\u001B[39;00m \u001B[38;5;167;01mImportError\u001B[39;00m \u001B[38;5;28;01mas\u001B[39;00m e:\n\u001B[32m---> \u001B[39m\u001B[32m25\u001B[39m     \u001B[38;5;28;01mraise\u001B[39;00m DependencyNotInstalled(\n\u001B[32m     26\u001B[39m         \u001B[33m'\u001B[39m\u001B[33mBox2D is not installed, you can install it by run `pip install swig` followed by `pip install \u001B[39m\u001B[33m\"\u001B[39m\u001B[33mgymnasium[box2d]\u001B[39m\u001B[33m\"\u001B[39m\u001B[33m`\u001B[39m\u001B[33m'\u001B[39m\n\u001B[32m     27\u001B[39m     ) \u001B[38;5;28;01mfrom\u001B[39;00m\u001B[38;5;250m \u001B[39m\u001B[34;01me\u001B[39;00m\n\u001B[32m     30\u001B[39m \u001B[38;5;28;01mif\u001B[39;00m TYPE_CHECKING:\n\u001B[32m     31\u001B[39m     \u001B[38;5;28;01mimport\u001B[39;00m\u001B[38;5;250m \u001B[39m\u001B[34;01mpygame\u001B[39;00m\n",
      "\u001B[31mDependencyNotInstalled\u001B[39m: Box2D is not installed, you can install it by run `pip install swig` followed by `pip install \"gymnasium[box2d]\"`"
     ]
    }
   ],
   "execution_count": 8
  }
 ],
 "metadata": {
  "kernelspec": {
   "display_name": "Python 3",
   "language": "python",
   "name": "python3"
  },
  "language_info": {
   "codemirror_mode": {
    "name": "ipython",
    "version": 2
   },
   "file_extension": ".py",
   "mimetype": "text/x-python",
   "name": "python",
   "nbconvert_exporter": "python",
   "pygments_lexer": "ipython2",
   "version": "2.7.6"
  }
 },
 "nbformat": 4,
 "nbformat_minor": 5
}
